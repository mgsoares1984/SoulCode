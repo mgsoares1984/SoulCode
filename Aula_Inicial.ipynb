{
  "nbformat": 4,
  "nbformat_minor": 0,
  "metadata": {
    "colab": {
      "provenance": [],
      "include_colab_link": true
    },
    "kernelspec": {
      "name": "python3",
      "display_name": "Python 3"
    },
    "language_info": {
      "name": "python"
    }
  },
  "cells": [
    {
      "cell_type": "markdown",
      "metadata": {
        "id": "view-in-github",
        "colab_type": "text"
      },
      "source": [
        "<a href=\"https://colab.research.google.com/github/mgsoares1984/SoulCode/blob/main/Aula_Inicial.ipynb\" target=\"_parent\"><img src=\"https://colab.research.google.com/assets/colab-badge.svg\" alt=\"Open In Colab\"/></a>"
      ]
    },
    {
      "cell_type": "markdown",
      "source": [
        "# 1 - Variáveis e Tipos de Dados"
      ],
      "metadata": {
        "id": "uxGISqtR2yNT"
      }
    },
    {
      "cell_type": "code",
      "execution_count": null,
      "metadata": {
        "id": "tLS0FEGj2rS7",
        "outputId": "6f214d29-1689-4438-f5e2-7cc54cd26e5b",
        "colab": {
          "base_uri": "https://localhost:8080/"
        }
      },
      "outputs": [
        {
          "output_type": "stream",
          "name": "stdout",
          "text": [
            "Dannyelly\n",
            "<class 'str'>\n",
            "31\n",
            "<class 'int'>\n",
            "63\n",
            "<class 'int'>\n",
            "1.63\n",
            "<class 'float'>\n"
          ]
        }
      ],
      "source": [
        "'''\n",
        "1.1. Crie variáveis para armazenar o nome, idade, peso e altura de uma pessoa.\n",
        "Imprima os valores e os tipos de dados dessas variáveis.\n",
        "'''\n",
        "nome = 'Dannyelly'\n",
        "print(nome)\n",
        "print(type(nome))\n",
        "\n",
        "idade = 31\n",
        "print(idade)\n",
        "print(type(idade))\n",
        "\n",
        "peso = 63\n",
        "print(peso)\n",
        "print(type(peso))\n",
        "\n",
        "altura = 1.63\n",
        "print(altura)\n",
        "print(type(altura))"
      ]
    },
    {
      "cell_type": "code",
      "source": [
        "'''\n",
        "1.2. Atualize a variável de peso para um valor diferente e imprima o novo valor.\n",
        "'''\n",
        "\n",
        "peso = 54\n",
        "print(peso)\n"
      ],
      "metadata": {
        "id": "VFVgrodF27TT",
        "colab": {
          "base_uri": "https://localhost:8080/"
        },
        "outputId": "f8f8dfe1-61bc-4bf6-b30a-ecb7ce939f28"
      },
      "execution_count": null,
      "outputs": [
        {
          "output_type": "stream",
          "name": "stdout",
          "text": [
            "54\n"
          ]
        }
      ]
    },
    {
      "cell_type": "markdown",
      "source": [
        "# 2 - Operadores Matemáticos"
      ],
      "metadata": {
        "id": "RRRbkSkr3Ajw"
      }
    },
    {
      "cell_type": "code",
      "source": [
        "'''\n",
        "2.1. Crie uma variável a com valor 10 e uma variável b com valor 3. Realize as\n",
        "seguintes operações e imprima os resultados:\n",
        "Soma\n",
        "Subtração\n",
        "Multiplicação\n",
        "Divisão\n",
        "Parte inteira da divisão\n",
        "Resto da divisão\n",
        "Exponenciação\n",
        "'''\n",
        "\n",
        "a = 10\n",
        "b = 3\n",
        "\n",
        "soma = a + b\n",
        "print(soma)\n",
        "\n",
        "\n",
        "subtracao = a-b\n",
        "print(subtracao)\n",
        "\n",
        "\n",
        "multiplicacao = a*b\n",
        "print(multiplicacao)\n",
        "\n",
        "divisao = a/b\n",
        "print(divisao)\n",
        "\n",
        "part_inteira = a//b\n",
        "print(part_inteira)\n",
        "\n",
        "resto = a%b\n",
        "print(resto)\n",
        "\n",
        "exponenciacao = a**b\n",
        "print(exponenciacao)"
      ],
      "metadata": {
        "id": "hHAztIDU3AJP",
        "outputId": "5325d1fa-bcc0-4d5d-a4d6-9a982a8010a1",
        "colab": {
          "base_uri": "https://localhost:8080/"
        }
      },
      "execution_count": null,
      "outputs": [
        {
          "output_type": "stream",
          "name": "stdout",
          "text": [
            "13\n",
            "7\n",
            "30\n",
            "3.3333333333333335\n",
            "3\n",
            "1\n",
            "1000\n"
          ]
        }
      ]
    },
    {
      "cell_type": "markdown",
      "source": [
        "# 3 - Entrada de Dados pelo Usuário\n"
      ],
      "metadata": {
        "id": "jWJt5Ep23OFd"
      }
    },
    {
      "cell_type": "code",
      "source": [
        "'''\n",
        "3.1. Peça ao usuário para digitar seu nome e armazene em uma variável. Imprima\n",
        "uma mensagem de boas-vindas usando o nome fornecido.\n",
        "'''\n",
        "\n",
        "nome = input('Digite seu nome:')\n",
        "print(f'Olá {nome}, seja bem vindo!')\n"
      ],
      "metadata": {
        "id": "IiD6jUJh3eiD",
        "outputId": "7f098928-154f-41c5-eba3-7ff757c2a5a4",
        "colab": {
          "base_uri": "https://localhost:8080/"
        }
      },
      "execution_count": null,
      "outputs": [
        {
          "output_type": "stream",
          "name": "stdout",
          "text": [
            "Digite seu nome:Dannyelly\n",
            "Olá Dannyelly, seja bem vindo!\n"
          ]
        }
      ]
    },
    {
      "cell_type": "code",
      "source": [
        "'''\n",
        "3.2. Peça ao usuário para digitar sua idade, peso e altura. Calcule o IMC e\n",
        "imprima o resultado arredondado para três casas decimais.\n",
        "'''\n",
        "\n",
        "idade = int(input('Digite sua idade:'))\n",
        "peso = float(input('Digite seu peso:'))\n",
        "altura = float(input('Digite sua altura:'))\n",
        "\n",
        "imc = peso/altura**2\n",
        "imc_arrend = round(imc,3)\n",
        "print (f'O IMC é {imc_arrend}')"
      ],
      "metadata": {
        "id": "Y4kz72aR3k8d",
        "outputId": "3ba7319a-03c4-4254-85d0-cc58ce598c20",
        "colab": {
          "base_uri": "https://localhost:8080/"
        }
      },
      "execution_count": null,
      "outputs": [
        {
          "output_type": "stream",
          "name": "stdout",
          "text": [
            "Digite sua idade:31\n",
            "Digite seu peso:63\n",
            "Digite sua altura:1.63\n",
            "O IMC é 23.712\n"
          ]
        }
      ]
    },
    {
      "cell_type": "code",
      "source": [
        "# Método Alternativo\n",
        "'''\n",
        "3.2. Peça ao usuário para digitar sua idade, peso e altura. Calcule o IMC e\n",
        "imprima o resultado arredondado para três casas decimais.\n",
        "'''\n",
        "#Juliana\n",
        "idade = int(input(\"Digite sua idade: \"))\n",
        "peso = float(input(\"Digite seu peso: \"))\n",
        "altura = float(input(\"Digite sua altura: \"))\n",
        "imc = peso / (altura ** 2)\n",
        "print(f\"Seu IMC é: {imc:.3f}\")\n",
        "\n",
        "#Jessica\n",
        "\n",
        "'''\n",
        "Contexto:\n",
        "Uma empresa precisa registrar informações sobre seus clientes e calcular o IMC\n",
        "(Índice de Massa Corporal) de cada um deles. As informações devem ser\n",
        "armazenadas em um dicionário e exibidas ao final.\n",
        "'''\n",
        "#Kauane\n",
        "def calculo_imc (peso_4,altura_4):\n",
        "  return round(peso_4/altura_4**2, 3)\n",
        "\n",
        "def variaveis():\n",
        "  idade_4 = int(input('Digite a idade da pessoa: '))\n",
        "  peso_4 = float(input('Digite o peso da pessoa(em kg): '))\n",
        "  altura_4 = float(input('Digite a altura da pessoa(em m): '))\n",
        "\n",
        "  imc_novo = calculo_imc(peso_4,altura_4)\n",
        "\n",
        "  print(f'Idade: {idade_4} anos')\n",
        "  print(f'Peso: {peso_4} Kg')\n",
        "  print(f'Altura: {altura_4} m')\n",
        "  print(f'O imc é: {imc_novo}')\n",
        "\n",
        "variaveis()\n",
        "\n",
        "#Jessica Castro\n",
        "clientes = {'nome': [],\n",
        "            'idade': [],\n",
        "            'peso': [],\n",
        "            'altura': [],\n",
        "            'email': [],\n",
        "            'imc':[]\n",
        "            }\n",
        "\n",
        "# Peça ao usuário para inserir os seguintes dados de um cliente:\n",
        "\n",
        "def cadastrar_clientes():\n",
        "  mais_clientes = 1\n",
        "\n",
        "  while mais_clientes == 1:\n",
        "\n",
        "    nome = input('Digite o seu nome: ')\n",
        "    idade = int(input('Digite a sua idade: '))\n",
        "    peso = float(input('Digite o seu peso: '))\n",
        "    altura = float(input('Digite a sua altura: '))\n",
        "    email = input('Digite o seu email: ')\n",
        "\n",
        "\n",
        "    clientes['nome'].append(nome)\n",
        "    clientes['idade'].append(idade)\n",
        "    clientes['peso'].append(peso)\n",
        "    clientes['altura'].append(altura)\n",
        "    clientes['email'].append(email)\n",
        "\n",
        "    imc = round(peso/(altura ** 2), 2)\n",
        "    clientes['imc'].append(imc)\n",
        "\n",
        "    print(f'\\nDESEJA CADASTAR MAIS CLIENTES?\\n\\n')\n",
        "    mais_clientes = int(input('1 = SIM\\n2 = NÃO'))\n",
        "    if mais_clientes == 2:\n",
        "\n",
        "      print(f'\\nObrigada pelo cadastro!')\n",
        "\n",
        "\n",
        "cadastrar_clientes()\n",
        "print(f'\\nDicionário do cliente:\\n{clientes}')"
      ],
      "metadata": {
        "id": "PrhJpkQVXU-V"
      },
      "execution_count": null,
      "outputs": []
    },
    {
      "cell_type": "markdown",
      "source": [
        "# 4 - Função de Impressão"
      ],
      "metadata": {
        "id": "zqRV3Plv3pjL"
      }
    },
    {
      "cell_type": "code",
      "source": [
        "'''\n",
        "4.1. Peça ao usuário para digitar um número e imprima o número digitado.\n",
        "'''\n",
        "n = int(input('Digite um número:'))\n",
        "print(f'O número digitado foi: {n}')"
      ],
      "metadata": {
        "id": "N5AbRV3i3vYV",
        "outputId": "fa50c13f-33a9-4ffd-f19a-6cc19209abdd",
        "colab": {
          "base_uri": "https://localhost:8080/"
        }
      },
      "execution_count": null,
      "outputs": [
        {
          "output_type": "stream",
          "name": "stdout",
          "text": [
            "Digite um número:1\n",
            "O número digitado foi: 1\n"
          ]
        }
      ]
    },
    {
      "cell_type": "code",
      "source": [
        "'''\n",
        "4.2. Peça ao usuário para digitar dois números e imprima a soma deles.\n",
        "'''\n",
        "n1 = float(input('Digite um número:'))\n",
        "n2 = int(input('Digite outro número:'))\n",
        "print(f'A soma dos números informados é: {n1+n2}')\n"
      ],
      "metadata": {
        "id": "qM2ocOFl3vpB",
        "outputId": "6be526a7-78cb-47c6-90ee-568c194a7cb0",
        "colab": {
          "base_uri": "https://localhost:8080/"
        }
      },
      "execution_count": null,
      "outputs": [
        {
          "output_type": "stream",
          "name": "stdout",
          "text": [
            "Digite um número:1\n",
            "Digite outro número:2\n",
            "A soma dos números informados é: 3.0\n"
          ]
        }
      ]
    },
    {
      "cell_type": "markdown",
      "source": [
        "# 5 - Métodos de Strings"
      ],
      "metadata": {
        "id": "RWwlLaOu35jq"
      }
    },
    {
      "cell_type": "code",
      "source": [
        "'''\n",
        "5.1. Peça ao usuário para digitar um e-mail e verifique se o e-mail contém o\n",
        "caractere '@'. Imprima uma mensagem indicando se é um e-mail válido ou não.\n",
        "'''\n",
        "\n",
        "email = input('Digite seu email:')\n",
        "if '@' in email:\n",
        "  print('O email é válido')\n",
        "else:\n",
        "  print('O email não é válido')"
      ],
      "metadata": {
        "id": "PnAPaeXY3-dA",
        "outputId": "3959b7ad-236b-4ca8-e048-c32665a30e8e",
        "colab": {
          "base_uri": "https://localhost:8080/"
        }
      },
      "execution_count": null,
      "outputs": [
        {
          "output_type": "stream",
          "name": "stdout",
          "text": [
            "Digite seu email:danny.com \n",
            "O email não é válido\n"
          ]
        }
      ]
    },
    {
      "cell_type": "code",
      "source": [
        "#Metodo alternativo\n",
        "email = input('Informe um e-mail:')\n",
        "\n",
        "if '@' not in email:\n",
        "  print('Esse e-mail não é válido!')\n",
        "else:\n",
        "  print('E-mail válido!')"
      ],
      "metadata": {
        "id": "OAs_mR8jVNpR",
        "outputId": "72a2e9de-1d1c-495c-df84-acfabbfa7cd2",
        "colab": {
          "base_uri": "https://localhost:8080/"
        }
      },
      "execution_count": null,
      "outputs": [
        {
          "output_type": "stream",
          "name": "stdout",
          "text": [
            "Informe um e-mail:danydayane2@gmail.com\n",
            "E-mail válido!\n"
          ]
        }
      ]
    },
    {
      "cell_type": "code",
      "source": [
        "'''\n",
        "5.2. Peça ao usuário para digitar uma frase e:\n",
        "Converta a frase para maiúsculas.\n",
        "Converta a frase para minúsculas.\n",
        "Converta a primeira letra de cada palavra para maiúscula.\n",
        "Verifique se a frase começa com uma determinada palavra (ex.: 'Olá').\n",
        "'''\n",
        "\n",
        "frase = input('Digite uma frase:')\n",
        "print(frase.upper())\n",
        "print(frase.lower())\n",
        "print(frase.title())\n",
        "print(frase.startswith('Olá'))"
      ],
      "metadata": {
        "id": "nkwe0I9c3-w-",
        "colab": {
          "base_uri": "https://localhost:8080/"
        },
        "outputId": "3c0bf170-38d2-45ce-ef45-bddb7734b85d"
      },
      "execution_count": null,
      "outputs": [
        {
          "output_type": "stream",
          "name": "stdout",
          "text": [
            "Digite uma frase:Olá\n",
            "OLÁ\n",
            "olá\n",
            "Olá\n",
            "True\n"
          ]
        }
      ]
    },
    {
      "cell_type": "markdown",
      "source": [
        "# 6 - Listas"
      ],
      "metadata": {
        "id": "HZQlB-8K4snX"
      }
    },
    {
      "cell_type": "code",
      "source": [
        "'''\n",
        "6.1. Crie uma lista com os nomes de cinco amigos. Imprima o nome do terceiro\n",
        "amigo na lista.\n",
        "'''\n",
        "amigos = ['Leandro', 'Leonardo', 'Chitaozinho', 'Xororó', 'Zé Felipe']\n",
        "print(amigos[2])"
      ],
      "metadata": {
        "id": "3_3JLvXZ4sBG",
        "colab": {
          "base_uri": "https://localhost:8080/"
        },
        "outputId": "0585a307-019b-4486-9d1a-6577327cce3c"
      },
      "execution_count": null,
      "outputs": [
        {
          "output_type": "stream",
          "name": "stdout",
          "text": [
            "Chitaozinho\n"
          ]
        }
      ]
    },
    {
      "cell_type": "code",
      "source": [
        "'''\n",
        "6.2. Adicione um novo nome à lista de amigos e remova o primeiro nome.\n",
        "Imprima a lista atualizada.\n",
        "'''\n",
        "amigos.append('Virginia')\n",
        "print(amigos)\n",
        "\n",
        "amigos.pop(0)\n",
        "print(amigos)"
      ],
      "metadata": {
        "id": "ppcjLqMb4yDu",
        "colab": {
          "base_uri": "https://localhost:8080/"
        },
        "outputId": "a7934b28-8ddd-45af-af24-dc103f4e3ad4"
      },
      "execution_count": null,
      "outputs": [
        {
          "output_type": "stream",
          "name": "stdout",
          "text": [
            "['Leonardo', 'Chitaozinho', 'Xororó', 'Zé Felipe', 'Virginia', 'Virginia']\n",
            "Leonardo\n",
            "['Chitaozinho', 'Xororó', 'Zé Felipe', 'Virginia', 'Virginia']\n"
          ]
        }
      ]
    },
    {
      "cell_type": "code",
      "source": [
        "'''\n",
        "6.3. Crie uma lista com as idades dos seus amigos e:\n",
        "Imprima a idade do amigo mais velho.\n",
        "Imprima a idade do amigo mais novo.\n",
        "Calcule e imprima a soma das idades.\n",
        "'''\n",
        "\n",
        "idade = [61, 31, 30, 65, 50]\n",
        "print (f'A idade do mais velho é: {max(idade)} anos')\n",
        "print(f'A idade do mais novo é: {min(idade)} anos')\n",
        "print(f'A soma das idades é {sum(idade)} anos ')\n"
      ],
      "metadata": {
        "id": "Hoz7RcUW4zc4",
        "colab": {
          "base_uri": "https://localhost:8080/"
        },
        "outputId": "1bcd9ae4-af5a-471e-ca21-a38e1f9bc29b"
      },
      "execution_count": null,
      "outputs": [
        {
          "output_type": "stream",
          "name": "stdout",
          "text": [
            "A idade do mais velho é: 65 anos\n",
            "A idade do mais novo é: 30 anos\n",
            "A soma das idades é 237 anos \n"
          ]
        }
      ]
    },
    {
      "cell_type": "markdown",
      "source": [
        "# 7 - Tuplas"
      ],
      "metadata": {
        "id": "9WTzsCNH4-tT"
      }
    },
    {
      "cell_type": "code",
      "source": [
        "'''\n",
        "7.1 Crie uma tupla com as informações de um cliente (nome, idade, peso, altura).\n",
        "Imprima todas as informações.\n",
        "'''\n",
        "\n",
        "cliente = ('Dannyelly', 31, 54, 1.63)\n",
        "\n",
        "print(f'O nome do cliente é: {cliente[0]}')\n",
        "print(f'A idade do cliente é: {cliente[1]}')\n",
        "print(f'O peso do cliente é: {cliente[2]}')\n",
        "print(f'A altura do cliente é: {cliente[3]}')"
      ],
      "metadata": {
        "id": "XpWW7G-p5BOJ",
        "colab": {
          "base_uri": "https://localhost:8080/"
        },
        "outputId": "0c588eb9-0930-4ccd-b2a7-7ebf7076b65b"
      },
      "execution_count": null,
      "outputs": [
        {
          "output_type": "stream",
          "name": "stdout",
          "text": [
            "O nome do cliente é: Dannyelly\n",
            "A idade do cliente é: 31\n",
            "O peso do cliente é: 54\n",
            "A altura do cliente é: 1.63\n"
          ]
        }
      ]
    },
    {
      "cell_type": "code",
      "source": [
        "'''\n",
        "7.2. Crie uma nova tupla concatenando a tupla do exercício anterior com o e-mail\n",
        "do cliente. Imprima a nova tupla.\n",
        "\n",
        "'''\n",
        "\n",
        "email = ('danymaracuja@gmail.com',)\n",
        "\n",
        "nova_tupla = cliente + email\n",
        "print(nova_tupla)"
      ],
      "metadata": {
        "id": "tIzWFwzc5GQ8",
        "colab": {
          "base_uri": "https://localhost:8080/"
        },
        "outputId": "9b08e063-7d82-420f-9c0c-bf0222de7a41"
      },
      "execution_count": null,
      "outputs": [
        {
          "output_type": "stream",
          "name": "stdout",
          "text": [
            "('Dannyelly', 31, 54, 1.63, 'danymaracuja@gmail.com')\n"
          ]
        }
      ]
    },
    {
      "cell_type": "markdown",
      "source": [
        "# 8 - Dicionários"
      ],
      "metadata": {
        "id": "-zg06dPu5ZJC"
      }
    },
    {
      "cell_type": "code",
      "source": [
        "'''\n",
        "8.1. Crie um dicionário com informações de um cliente\n",
        "(nome, idade, peso, altura). Imprima o valor associado à chave 'nome'.\n",
        "'''\n",
        "\n",
        "cliente = {\n",
        "    'nome':'Dannyelly',\n",
        "    'idade':31,\n",
        "    'peso':54,\n",
        "    'altura':1.63\n",
        "}\n",
        "\n",
        "print(cliente['nome'])"
      ],
      "metadata": {
        "id": "E_wd3pdX5clA",
        "colab": {
          "base_uri": "https://localhost:8080/"
        },
        "outputId": "fc73a852-a4c6-4e78-952e-e775d1208536"
      },
      "execution_count": null,
      "outputs": [
        {
          "output_type": "stream",
          "name": "stdout",
          "text": [
            "Dannyelly\n"
          ]
        }
      ]
    },
    {
      "cell_type": "code",
      "source": [
        "'''\n",
        "8.2. Adicione uma nova chave 'email' ao dicionário do exercício anterior e\n",
        "imprima o dicionário atualizado.\n",
        "'''\n",
        "\n",
        "cliente['email'] = 'danymaracuja@gmail.com'\n",
        "print(cliente)"
      ],
      "metadata": {
        "id": "kM-tUW7o5eK7",
        "colab": {
          "base_uri": "https://localhost:8080/"
        },
        "outputId": "9b8e593c-cda9-4645-baba-2278bc414d89"
      },
      "execution_count": null,
      "outputs": [
        {
          "output_type": "stream",
          "name": "stdout",
          "text": [
            "{'nome': 'Dannyelly', 'idade': 31, 'peso': 54, 'altura': 1.63, 'email': 'danymaracuja@gmail.com'}\n"
          ]
        }
      ]
    },
    {
      "cell_type": "code",
      "source": [
        "'''\n",
        "8.3. Remova a chave 'peso' do dicionário e verifique se a chave 'endereço' está\n",
        "no dicionário. Imprima os resultados.\n",
        "'''\n",
        "cliente.pop('peso')\n",
        "print(cliente)\n",
        "\n",
        "if 'endereço' in cliente:\n",
        "  print('A chave endereço está presente no dicionário')\n",
        "else:\n",
        "  print('A chave endereço não está presente no dicionário')"
      ],
      "metadata": {
        "id": "xFhFuFOV5ffs",
        "colab": {
          "base_uri": "https://localhost:8080/"
        },
        "outputId": "87741e30-1b12-4ff0-cdde-9d14396d0b3a"
      },
      "execution_count": null,
      "outputs": [
        {
          "output_type": "stream",
          "name": "stdout",
          "text": [
            "{'nome': 'Dannyelly', 'idade': 31, 'altura': 1.63, 'email': 'danymaracuja@gmail.com'}\n",
            "A chave endereço não está presente no dicionário\n"
          ]
        }
      ]
    },
    {
      "cell_type": "code",
      "source": [
        "#Metodo alternativo\n",
        "#Michele Alves\n",
        "\n",
        "'''\n",
        "del cliente[\"peso\"]\n",
        "tem_endereco = \"endereço\" in cliente\n",
        "\n",
        "print(\"Dicionário após remoção da chave 'peso':\", cliente)\n",
        "print(\"A chave 'endereço' está no dicionário?\", tem_endereco)'''\n",
        "\n",
        "'''\n",
        "dicionario.pop('peso')\n",
        "print(dicionario)\n",
        "print('endereço' in dicionario)'''"
      ],
      "metadata": {
        "id": "m_ZTd3vkbayX"
      },
      "execution_count": null,
      "outputs": []
    },
    {
      "cell_type": "markdown",
      "source": [
        "# 9 - Controle de Fluxo"
      ],
      "metadata": {
        "id": "zDOsohbe5sjQ"
      }
    },
    {
      "cell_type": "code",
      "source": [
        "# Condicionais\n",
        "'''\n",
        "9.1. Peça ao usuário para digitar sua idade e verifique se ele é menor de idade,\n",
        " adulto ou idoso. Imprima uma mensagem correspondente.\n",
        "'''\n",
        "\n",
        "idade = int(input('Digite sua idade:'))\n",
        "if idade < 18:\n",
        "  print('Você é menor de idade, não paga boleto.')\n",
        "elif idade < 85:\n",
        "  print('Você é adulto então já paga boleto.')\n",
        "else:\n",
        "  print('Você é idoso, já tá aposentado')"
      ],
      "metadata": {
        "id": "efFgv5Xx5wFC",
        "colab": {
          "base_uri": "https://localhost:8080/"
        },
        "outputId": "1bf0ff90-e488-4ce4-8a39-4eeee0f77576"
      },
      "execution_count": null,
      "outputs": [
        {
          "output_type": "stream",
          "name": "stdout",
          "text": [
            "Digite sua idade:20\n",
            "Você é adulto então já paga boleto.\n"
          ]
        }
      ]
    },
    {
      "cell_type": "code",
      "source": [
        "# Condicionais\n",
        "'''\n",
        "9.2. Peça ao usuário para digitar uma nota (0 a 100) e imprima se ele foi\n",
        "aprovado (nota >= 60) ou reprovado.\n",
        "'''\n",
        "\n",
        "nota = float(input('Digite sua nota:'))\n",
        "if nota >=60:\n",
        "  print('Parabéns! Você foi aprovado!')\n",
        "else:\n",
        "  print('Sinto muito, você foi reprovado. Tente outra vez!')"
      ],
      "metadata": {
        "id": "pse5b4NO52OP",
        "colab": {
          "base_uri": "https://localhost:8080/"
        },
        "outputId": "57a9b741-3ab5-4093-9c03-cc385433cf04"
      },
      "execution_count": null,
      "outputs": [
        {
          "output_type": "stream",
          "name": "stdout",
          "text": [
            "Digite sua nota:70\n",
            "Parabéns! Você foi aprovado!\n"
          ]
        }
      ]
    },
    {
      "cell_type": "code",
      "source": [
        "#Ana Fortes\n",
        "19:38\n",
        "try:\n",
        "  nota = int(input(\"Digite sua nota de 0 a 100: \"))\n",
        "\n",
        "  if nota >= 60 and nota <= 100:\n",
        "    print(\"Você foi aprovado.\")\n",
        "  elif nota < 60 and nota >= 0:\n",
        "    print(\"Você foi reprovado.\")\n",
        "  else:\n",
        "    print(\"Você digitou uma nota inválida.\")\n",
        "\n",
        "except ValueError:\n",
        "    print(\"Você digitou uma nota inválida.\")\n"
      ],
      "metadata": {
        "id": "6kN4tJumdN5t"
      },
      "execution_count": null,
      "outputs": []
    },
    {
      "cell_type": "code",
      "source": [
        "# Loop For\n",
        "'''\n",
        "9.3. Crie uma lista com os nomes de cinco cidades. Use um loop for para imprimir\n",
        "cada nome de cidade.\n",
        "'''\n",
        "cidades = ['SP', 'Braganca', 'Taboao da Serra', 'Araraquara','Botucatu']\n",
        "for cidade in cidades:\n",
        "  print(cidade)"
      ],
      "metadata": {
        "id": "inMnGHFy525K",
        "colab": {
          "base_uri": "https://localhost:8080/"
        },
        "outputId": "ceb92f92-e44b-4ca0-f8ed-46c588da696a"
      },
      "execution_count": null,
      "outputs": [
        {
          "output_type": "stream",
          "name": "stdout",
          "text": [
            "SP\n",
            "Braganca\n",
            "Taboao da Serra\n",
            "Araraquara\n",
            "Botucatu\n"
          ]
        }
      ]
    },
    {
      "cell_type": "code",
      "source": [
        "# Loop For\n",
        "'''\n",
        "9.4. Crie uma lista com os números de 1 a 10. Use um loop for para imprimir o\n",
        "quadrado de cada número.\n",
        "'''\n",
        "\n",
        "'''\n",
        "lista = [1,2,3,4,5,6,7,8,9,10]\n",
        "for numero in lista:\n",
        "  print(numero**2)'''\n",
        "\n",
        "for n in range(1,11): #primeiro é inicio é inclusive, segundo é o fim, é exclusive, e o terceiro é o passo)\n",
        "  print(f'O quadrado de {n} é {n**2}')"
      ],
      "metadata": {
        "id": "GitTfGfM539Y",
        "colab": {
          "base_uri": "https://localhost:8080/"
        },
        "outputId": "cd0678f6-f9a5-4e71-d388-448a57bd5093"
      },
      "execution_count": null,
      "outputs": [
        {
          "output_type": "stream",
          "name": "stdout",
          "text": [
            "O quadrado de 1 é 1\n",
            "O quadrado de 2 é 4\n",
            "O quadrado de 3 é 9\n",
            "O quadrado de 4 é 16\n",
            "O quadrado de 5 é 25\n",
            "O quadrado de 6 é 36\n",
            "O quadrado de 7 é 49\n",
            "O quadrado de 8 é 64\n",
            "O quadrado de 9 é 81\n",
            "O quadrado de 10 é 100\n"
          ]
        }
      ]
    },
    {
      "cell_type": "markdown",
      "source": [
        "# 10 - Estudo de caso 01"
      ],
      "metadata": {
        "id": "_vJUEjo_6mWX"
      }
    },
    {
      "cell_type": "code",
      "source": [
        "'''\n",
        "Contexto:\n",
        "Uma empresa precisa registrar informações sobre seus clientes e calcular o IMC\n",
        "(Índice de Massa Corporal) de cada um deles. As informações devem ser\n",
        "armazenadas em um dicionário e exibidas ao final.\n",
        "'''\n",
        "\n",
        "\n",
        "'''\n",
        "Requisitos:\n",
        "Peça ao usuário para inserir os seguintes dados de um cliente:\n",
        "Nome\n",
        "Idade\n",
        "Peso (em kg)\n",
        "Altura (em metros)\n",
        "E-mail\n",
        "Armazene essas informações em um dicionário.\n",
        "Calcule o IMC do cliente (IMC = Peso / (Altura * Altura)) e adicione esse valor ao dicionário.\n",
        "Exiba todas as informações do cliente, incluindo o IMC arredondado para duas casas decimais.\n",
        "\n",
        "'''\n",
        "\n",
        "nome = input('Digite seu nome:')\n",
        "idade = int(input('Digite sua idade:'))\n",
        "peso = float(input('Digite seu peso:'))\n",
        "altura = float(input('Digite sua altura:'))\n",
        "email = input('Digite seu email:')\n",
        "imc = round(peso/altura**2,2)\n",
        "\n",
        "cliente = {\n",
        "    'nome':nome,\n",
        "    'idade':idade,\n",
        "    'peso': peso,\n",
        "    'altura':altura,\n",
        "    'email':email,\n",
        "    'imc':imc\n",
        "}\n",
        "\n",
        "print(cliente)\n",
        "\n",
        "for chave,valor in cliente.items():\n",
        "  print(f'{chave}:{valor}')\n"
      ],
      "metadata": {
        "id": "llIsNhsG6l_z",
        "colab": {
          "base_uri": "https://localhost:8080/"
        },
        "outputId": "4204c38e-fdb1-4d51-cf97-78bcabe58c95"
      },
      "execution_count": null,
      "outputs": [
        {
          "output_type": "stream",
          "name": "stdout",
          "text": [
            "Digite seu nome:Dannyelly\n",
            "Digite sua idade:31\n",
            "Digite seu peso:54\n",
            "Digite sua altura:1.63\n",
            "Digite seu email:dany@gmail.com\n",
            "{'nome': 'Dannyelly', 'idade': 31, 'peso': 54.0, 'altura': 1.63, 'email': 'dany@gmail.com', 'imc': 20.32}\n",
            "nome:Dannyelly\n",
            "idade:31\n",
            "peso:54.0\n",
            "altura:1.63\n",
            "email:dany@gmail.com\n",
            "imc:20.32\n"
          ]
        }
      ]
    },
    {
      "cell_type": "markdown",
      "source": [
        "# 11 - Estudo de Caso 02"
      ],
      "metadata": {
        "id": "_Yi8lRKQ68B3"
      }
    },
    {
      "cell_type": "code",
      "source": [
        "'''\n",
        "Contexto:\n",
        "Uma escola precisa analisar as notas de seus alunos e determinar se cada aluno\n",
        "foi aprovado ou reprovado. As notas serão armazenadas em uma lista e a análise\n",
        "deve ser realizada em um loop.\n",
        "'''\n",
        "\n",
        "'''\n",
        "Requisitos:\n",
        "Peça ao usuário para inserir o nome e a nota de cinco alunos.\n",
        "Armazene os nomes e as notas em listas separadas.\n",
        "Para cada aluno, verifique se a nota é maior ou igual a 60. Se sim, o aluno está\n",
        "aprovado; caso contrário, está reprovado.\n",
        "Exiba uma mensagem para cada aluno informando seu nome, nota e se foi aprovado\n",
        "ou reprovado.\n",
        "'''\n",
        "\n",
        "nomes = []\n",
        "notas = []\n",
        "\n",
        "for i in range(5):\n",
        "  nomes.append(input('Digite o nome do aluno:'))\n",
        "  notas.append(float(input('Digite a nota do aluno:')))\n",
        "\n",
        "for i in range(5):\n",
        "  cond = 'aprovado' if notas[i] >=60 else 'reprovado'\n",
        "  print(f'O aluno {nomes[i]} teve nota {notas[i]} e está {cond}')"
      ],
      "metadata": {
        "id": "mrqCtmjg6_It",
        "colab": {
          "base_uri": "https://localhost:8080/"
        },
        "outputId": "fe1077a6-0f7f-4581-ae21-49bd0e745b70"
      },
      "execution_count": null,
      "outputs": [
        {
          "output_type": "stream",
          "name": "stdout",
          "text": [
            "Digite o nome do aluno:Ana\n",
            "Digite a nota do aluno:7\n",
            "Digite o nome do aluno:Carlos\n",
            "Digite a nota do aluno:70\n",
            "Digite o nome do aluno:Paulo \n",
            "Digite a nota do aluno:9\n",
            "Digite o nome do aluno:Thais\n",
            "Digite a nota do aluno:55\n",
            "Digite o nome do aluno:Rodrigo\n",
            "Digite a nota do aluno:77\n",
            "O aluno Ana teve nota 7.0 e está reprovado\n",
            "O aluno Carlos teve nota 70.0 e está aprovado\n",
            "O aluno Paulo  teve nota 9.0 e está reprovado\n",
            "O aluno Thais teve nota 55.0 e está reprovado\n",
            "O aluno Rodrigo teve nota 77.0 e está aprovado\n"
          ]
        }
      ]
    },
    {
      "cell_type": "code",
      "source": [
        "#Thais\n",
        "alunos = []\n",
        "notas = []\n",
        "\n",
        "for i in range(5):\n",
        "\n",
        "    alunos.append(input(\"Digite o nome do aluno: \"))\n",
        "    notas.append(float(input(\"Digite a nota do aluno: \")))\n",
        "\n",
        "for i in range(len(alunos)):\n",
        "    if notas[i] >= 60:\n",
        "      print(f'Aluno: {alunos[i]}, Nota: {notas[i]}, Status: APROVADO' )\n",
        "    else:\n",
        "      print(f'Aluno: {alunos[i]}, Nota: {notas[i]}, Status: REPROVADO' )\n",
        "\n",
        "#Ana Fortes\n",
        "20:06\n",
        "nomes_alunos = []\n",
        "notas_alunos = []\n",
        "\n",
        "for i in range(5): #loop para solicitar informação de cinco alunos e adicionar às respectivas listas\n",
        "    nome = input('Digite o nome do aluno: ')\n",
        "    nota = float(input('Digite a nota do aluno: '))\n",
        "    nomes_alunos.append(nome)\n",
        "    notas_alunos.append(nota)\n",
        "\n",
        "    if nota >= 60: #verificação se aprovado ou reprovado\n",
        "        print(f'O aluno {nome} foi aprovado com a nota {nota}')\n",
        "    else:\n",
        "        print(f'O aluno {nome} foi reprovado com a nota {nota}')"
      ],
      "metadata": {
        "id": "JkClPxcXjv9o"
      },
      "execution_count": null,
      "outputs": []
    },
    {
      "cell_type": "markdown",
      "source": [
        "# 12 - Estudo de caso 03"
      ],
      "metadata": {
        "id": "DoDAFqG37QWG"
      }
    },
    {
      "cell_type": "code",
      "source": [
        "'''\n",
        "Contexto\n",
        "Uma empresa deseja realizar uma pesquisa de opinião com cinco participantes\n",
        "sobre um novo produto. As respostas devem ser armazenadas e analisadas para\n",
        "verificar a satisfação dos clientes.\n",
        "'''\n",
        "\n",
        "'''\n",
        "Requisitos\n",
        "Peça ao usuário para inserir o nome e a opinião (satisfeito/insatisfeito) de\n",
        "cinco participantes.\n",
        "Armazene os nomes e as opiniões em um dicionário.\n",
        "Conte o número de participantes satisfeitos e insatisfeitos.\n",
        "Exiba a lista de participantes satisfeitos e insatisfeitos, bem como o número\n",
        "total de cada categoria.\n",
        "'''\n",
        "\n",
        "pesquisa = {}\n",
        "for i in range(5):\n",
        "  nome = input('Digite o nome do participante:')\n",
        "  opiniao = input(f'Informe a opinião (satisfeito ou insatisfeito) do {i+1}º participante: ').lower()\n",
        "  pesquisa[nome] = opiniao\n",
        "\n",
        "satisfeito = []\n",
        "insatisfeito = []\n",
        "\n",
        "for nome, opiniao in pesquisa.items():\n",
        "  if opiniao == 'satisfeito':\n",
        "    satisfeito.append(nome)\n",
        "  elif opiniao == 'insatisfeito':\n",
        "    insatisfeito.append(nome)\n",
        "\n",
        "print('\\nParticipantes Satisfeitos: ')\n",
        "for nome in satisfeito:\n",
        "  print(nome)\n",
        "print(f'\\nTotal de Participantes satisfeitos {len(satisfeito)}')\n",
        "print('\\nParticipantes Insatisfeitos: ')\n",
        "for nome in insatisfeito:\n",
        "  print(nome)\n",
        "print(f'\\nTotal de Participantes insatisfeitos {len(insatisfeito)}')"
      ],
      "metadata": {
        "id": "34JqxL0B7Tvj",
        "colab": {
          "base_uri": "https://localhost:8080/"
        },
        "outputId": "d297614d-36f9-486b-9ef6-c2608ab65aec"
      },
      "execution_count": null,
      "outputs": [
        {
          "output_type": "stream",
          "name": "stdout",
          "text": [
            "Digite o nome do participante:Dannyelly\n",
            "Informe a opinião (satisfeito ou insatisfeito) do 1º participante: SATISFEITO\n",
            "Digite o nome do participante:Ana\n",
            "Informe a opinião (satisfeito ou insatisfeito) do 2º participante: insatisfeito\n",
            "Digite o nome do participante:Leticia\n",
            "Informe a opinião (satisfeito ou insatisfeito) do 3º participante: satisfeito\n",
            "Digite o nome do participante:Perla\n",
            "Informe a opinião (satisfeito ou insatisfeito) do 4º participante: Insatisfeita\n",
            "Digite o nome do participante:Pablo\n",
            "Informe a opinião (satisfeito ou insatisfeito) do 5º participante: satisfeito\n",
            "\n",
            "Participantes Satisfeitos: \n",
            "Dannyelly\n",
            "Leticia\n",
            "Pablo\n",
            "\n",
            "Total de Participantes satisfeitos 3\n",
            "\n",
            "Participantes Insatisfeitos: \n",
            "Ana\n",
            "\n",
            "Total de Participantes insatisfeitos 1\n"
          ]
        }
      ]
    },
    {
      "cell_type": "code",
      "source": [
        "usuario_dic = {}\n",
        "\n",
        "satisfeitos = 0\n",
        "insatisfeitos = 0\n",
        "nome_insatisfeito = []\n",
        "nome_satisfeitos = []\n",
        "for i in range(5):\n",
        "    usuario_nome = input(\"Nome: \")\n",
        "    usuario_pesq = input(\"Opinião (s - satisfeito/ i - insatisfeito): \").lower()\n",
        "\n",
        "    # Verifica se o nome já existe no dicionário e, se sim, adiciona um índice para evitar sobrescrever\n",
        "    if usuario_nome in usuario_dic:\n",
        "        print(\"Nome já registrado. Tente novamente.\")\n",
        "        continue\n",
        "\n",
        "    usuario_dic[usuario_nome] = usuario_pesq\n",
        "\n",
        "    if usuario_pesq == 's':\n",
        "        satisfeitos += 1\n",
        "    elif usuario_pesq == 'i':\n",
        "        insatisfeitos += 1\n",
        "\n",
        "\n",
        "print(f\"\\nNúmero de satisfeitos: len{satisfeitos}\")\n",
        "for nome in nome_satisfeitos:\n",
        "    print(nome)\n"
      ],
      "metadata": {
        "id": "ZvfZUtSmnwWI"
      },
      "execution_count": null,
      "outputs": []
    }
  ]
}
{
  "nbformat": 4,
  "nbformat_minor": 0,
  "metadata": {
    "colab": {
      "provenance": [],
      "authorship_tag": "ABX9TyMzugMfrNXkMDeYDSXNiBrR",
      "include_colab_link": true
    },
    "kernelspec": {
      "name": "python3",
      "display_name": "Python 3"
    },
    "language_info": {
      "name": "python"
    }
  },
  "cells": [
    {
      "cell_type": "markdown",
      "metadata": {
        "id": "view-in-github",
        "colab_type": "text"
      },
      "source": [
        "<a href=\"https://colab.research.google.com/github/mgsoares1984/SoulCode/blob/main/etl_otimizado_gabi.ipynb\" target=\"_parent\"><img src=\"https://colab.research.google.com/assets/colab-badge.svg\" alt=\"Open In Colab\"/></a>"
      ]
    },
    {
      "cell_type": "code",
      "source": [
        "import pandas as pd"
      ],
      "metadata": {
        "id": "Bq3N6xCZ9PWM"
      },
      "execution_count": null,
      "outputs": []
    },
    {
      "cell_type": "code",
      "source": [
        "##leitura do arquivo com a biblioteca pandas\n",
        "df = pd.read_csv('https://storage.googleapis.com/dados-projeto-gabi/dados-brutos/tabela_funcionarios%20-%20tabela_funcionarios.csv')\n",
        "df = df.to_string(header=False, index=False).split('\\n')\n",
        "funcionarios = df\n",
        "display(df)"
      ],
      "metadata": {
        "colab": {
          "base_uri": "https://localhost:8080/",
          "height": 364
        },
        "id": "PyQV29z-9RM0",
        "outputId": "b04bea37-94d4-475d-b8f7-bc0136821ee9"
      },
      "execution_count": null,
      "outputs": [
        {
          "output_type": "display_data",
          "data": {
            "text/plain": [
              "['  Carlos 34.0 3500.0    Analista',\n",
              " '   Maria 45.0 4500.0     Gerente',\n",
              " '    João 23.0    NaN  Assistente',\n",
              " '     Ana  NaN 5000.0 Coordenador',\n",
              " '   Lucas 30.0 3900.0         NaN',\n",
              " '   Paula 29.0 4200.0  Supervisor',\n",
              " '  Renato 56.0 5500.0     Diretor',\n",
              " 'Fernanda  NaN    NaN  Assistente',\n",
              " ' Marcelo 41.0 4800.0    Analista',\n",
              " ' Luciana 25.0 4200.0 Coordenador',\n",
              " ' Ricardo 38.0 5200.0     Gerente',\n",
              " ' Adriana 43.0 5500.0  Assistente',\n",
              " '    José 29.0 4800.0         NaN',\n",
              " '  Camila 34.0 5000.0    Analista',\n",
              " '  Rafael  NaN    NaN     Gerente',\n",
              " '   Paulo 22.0 3500.0 Coordenador',\n",
              " '   Carla 41.0 4200.0  Supervisor',\n",
              " ' Eduardo 50.0 5000.0  Assistente',\n",
              " ' Larissa 35.0 6000.0     Gerente',\n",
              " '   Mário 28.0 3900.0 Coordenador']"
            ]
          },
          "metadata": {}
        }
      ]
    },
    {
      "cell_type": "code",
      "source": [
        "# Filtrar funcionários sem campos \"NaN\"\n",
        "funcionarios_filtrados = [\n",
        "    func for func in funcionarios if \"NaN\" not in func\n",
        "]\n",
        "\n",
        "# Exibe o resultado\n",
        "print(\"Funcionários filtrados:\")\n",
        "for func in funcionarios_filtrados:\n",
        "    print(func)"
      ],
      "metadata": {
        "colab": {
          "base_uri": "https://localhost:8080/"
        },
        "id": "LTJY7LBdMEpi",
        "outputId": "23a9f513-c20d-4a42-9f2f-8a62ab7f1398"
      },
      "execution_count": null,
      "outputs": [
        {
          "output_type": "stream",
          "name": "stdout",
          "text": [
            "Funcionários filtrados:\n",
            "  Carlos 34.0 3500.0    Analista\n",
            "   Maria 45.0 4500.0     Gerente\n",
            "   Paula 29.0 4200.0  Supervisor\n",
            "  Renato 56.0 5500.0     Diretor\n",
            " Marcelo 41.0 4800.0    Analista\n",
            " Luciana 25.0 4200.0 Coordenador\n",
            " Ricardo 38.0 5200.0     Gerente\n",
            " Adriana 43.0 5500.0  Assistente\n",
            "  Camila 34.0 5000.0    Analista\n",
            "   Paulo 22.0 3500.0 Coordenador\n",
            "   Carla 41.0 4200.0  Supervisor\n",
            " Eduardo 50.0 5000.0  Assistente\n",
            " Larissa 35.0 6000.0     Gerente\n",
            "   Mário 28.0 3900.0 Coordenador\n"
          ]
        }
      ]
    },
    {
      "cell_type": "code",
      "source": [
        "# Inicializa as listas\n",
        "nomes = []\n",
        "idades = []\n",
        "salarios = []\n",
        "cargos = []\n",
        "\n",
        "# Processa cada linha da lista filtrada\n",
        "for linha in funcionarios_filtrados:\n",
        "    partes = linha.split()  # Divide os dados por espaços em branco\n",
        "    nomes.append(partes[0])  # Primeiro elemento é o nome\n",
        "    idades.append(int(float(partes[1])))  # Converte idade para inteiro\n",
        "    salarios.append(float(partes[2]))  # Converte salário para float\n",
        "    cargos.append(partes[3])  # O cargo é o quarto elemento\n",
        "\n",
        "# Exibe as listas separadas\n",
        "print(nomes)\n",
        "print(idades)\n",
        "print(salarios)\n",
        "print(cargos)"
      ],
      "metadata": {
        "colab": {
          "base_uri": "https://localhost:8080/"
        },
        "id": "62dKbMWI9eMn",
        "outputId": "54ec50e6-0eb2-40a1-ae6e-b98119ded9fd"
      },
      "execution_count": null,
      "outputs": [
        {
          "output_type": "stream",
          "name": "stdout",
          "text": [
            "['Carlos', 'Maria', 'Paula', 'Renato', 'Marcelo', 'Luciana', 'Ricardo', 'Adriana', 'Camila', 'Paulo', 'Carla', 'Eduardo', 'Larissa', 'Mário']\n",
            "[34, 45, 29, 56, 41, 25, 38, 43, 34, 22, 41, 50, 35, 28]\n",
            "[3500.0, 4500.0, 4200.0, 5500.0, 4800.0, 4200.0, 5200.0, 5500.0, 5000.0, 3500.0, 4200.0, 5000.0, 6000.0, 3900.0]\n",
            "['Analista', 'Gerente', 'Supervisor', 'Diretor', 'Analista', 'Coordenador', 'Gerente', 'Assistente', 'Analista', 'Coordenador', 'Supervisor', 'Assistente', 'Gerente', 'Coordenador']\n"
          ]
        }
      ]
    },
    {
      "cell_type": "code",
      "source": [
        "# Lista de idades\n",
        "print(idades)\n",
        "print(type(idades[0]))"
      ],
      "metadata": {
        "colab": {
          "base_uri": "https://localhost:8080/"
        },
        "id": "371IkJB39g5v",
        "outputId": "a5471f3e-92d7-4d66-c886-fdcc30323c46"
      },
      "execution_count": null,
      "outputs": [
        {
          "output_type": "stream",
          "name": "stdout",
          "text": [
            "[34, 45, 29, 56, 41, 25, 38, 43, 34, 22, 41, 50, 35, 28]\n",
            "<class 'int'>\n"
          ]
        }
      ]
    },
    {
      "cell_type": "code",
      "source": [
        "# Lista de Salarios\n",
        "print(type(salarios[0]))"
      ],
      "metadata": {
        "colab": {
          "base_uri": "https://localhost:8080/"
        },
        "id": "OdDaZgmd-5YV",
        "outputId": "90dc127e-8eb9-4ca1-f1ec-bc973f2280b9"
      },
      "execution_count": null,
      "outputs": [
        {
          "output_type": "stream",
          "name": "stdout",
          "text": [
            "<class 'float'>\n"
          ]
        }
      ]
    },
    {
      "cell_type": "code",
      "source": [
        "#preparando os dados para o DF\n",
        "dados = []\n",
        "for linha in funcionarios_filtrados:\n",
        "    partes = linha.split()  # Divide os dados por espaços em branco\n",
        "    nome = partes[0]\n",
        "    idade = int(float(partes[1]))\n",
        "    salario = float(partes[2])\n",
        "    cargo = partes[3]\n",
        "    dados.append([nome, idade, salario, cargo])\n",
        "\n",
        "# Criando o DataFrame\n",
        "df = pd.DataFrame(dados, columns=[\"Nome\", \"Idade\", \"Salário\", \"Cargo\"])\n",
        "\n",
        "# Exibindo o DataFrame\n",
        "print(df)\n"
      ],
      "metadata": {
        "colab": {
          "base_uri": "https://localhost:8080/"
        },
        "id": "UZvjMUfVJH0-",
        "outputId": "8992959e-e963-4713-a2db-1eca37441050"
      },
      "execution_count": null,
      "outputs": [
        {
          "output_type": "stream",
          "name": "stdout",
          "text": [
            "       Nome  Idade  Salário        Cargo\n",
            "0    Carlos     34   3500.0     Analista\n",
            "1     Maria     45   4500.0      Gerente\n",
            "2     Paula     29   4200.0   Supervisor\n",
            "3    Renato     56   5500.0      Diretor\n",
            "4   Marcelo     41   4800.0     Analista\n",
            "5   Luciana     25   4200.0  Coordenador\n",
            "6   Ricardo     38   5200.0      Gerente\n",
            "7   Adriana     43   5500.0   Assistente\n",
            "8    Camila     34   5000.0     Analista\n",
            "9     Paulo     22   3500.0  Coordenador\n",
            "10    Carla     41   4200.0   Supervisor\n",
            "11  Eduardo     50   5000.0   Assistente\n",
            "12  Larissa     35   6000.0      Gerente\n",
            "13    Mário     28   3900.0  Coordenador\n"
          ]
        }
      ]
    },
    {
      "cell_type": "code",
      "source": [
        "#configurando autenticação e enviando para gcp\n",
        "from google.colab import auth\n",
        "from google.cloud import storage\n",
        "auth.authenticate_user()\n",
        "project_id = 'fresh-weft-454900-c7' #aqui cada uma coloca o id do seu projeto\n",
        "!gcloud config set project {project_id}\n",
        "client = storage.Client()\n",
        "bucket_name = 'dados-projeto-gabi' #aqui cada uma coloca o nome do seu bucket\n",
        "bucket = client.bucket(bucket_name)\n",
        "\n",
        "df.to_csv('tratados.csv', index=False)\n",
        "destination_blob_name = 'dados-tratados/tratados.csv' #primeiro nome da pasta e depois nome do arquivo\n",
        "source_file_name = 'tratados.csv'\n",
        "\n",
        "blob = bucket.blob(destination_blob_name)\n",
        "blob.upload_from_filename(source_file_name)"
      ],
      "metadata": {
        "colab": {
          "base_uri": "https://localhost:8080/"
        },
        "id": "i517VKyaAVfN",
        "outputId": "9d4d1e85-2bd0-45c4-c120-df20d5738531"
      },
      "execution_count": null,
      "outputs": [
        {
          "output_type": "stream",
          "name": "stdout",
          "text": [
            "Updated property [core/project].\n"
          ]
        }
      ]
    }
  ]
}